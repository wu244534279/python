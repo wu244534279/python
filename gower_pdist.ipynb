{
 "cells": [
  {
   "cell_type": "markdown",
   "metadata": {},
   "source": [
    "<h1>Gower distance calculation for Python</h1>\n",
    "\n",
    "<p>It is not all the time that the data under study is an even matrix of numerical values. Sometimes, you need to dig into data with mixed types of variables (e.g., categorical, boolean, numerical).\n",
    "</p>\n",
    "<p>This notebook proposes a refactoring for scipy's pdist function in order to support the Gower mixed dissimilarity.\n",
    "</p>\n",
    "<p>For more details about the Gower distance, please visit: <a href=\"http://members.cbio.mines-paristech.fr/~jvert/svn/bibli/local/Gower1971general.pdf\">Gower, J.C., 1971, A General Coefficient of Similarity and Some of Its Properties</a>.</p>\n"
   ]
  },
  {
   "cell_type": "markdown",
   "metadata": {},
   "source": [
    "<h2>1. Generate some data with mixed types</h2>"
   ]
  },
  {
   "cell_type": "code",
   "execution_count": 3,
   "metadata": {
    "collapsed": false,
    "scrolled": true
   },
   "outputs": [
    {
     "name": "stdout",
     "output_type": "stream",
     "text": [
      "   age  available_credit children civil_status gender   salary\n",
      "0   21              2200     True      MARRIED      M   3000.0\n",
      "1   21               100    False       SINGLE      M   1200.0\n",
      "2   19             22000     True       SINGLE      N  32000.0\n",
      "3   30              1100     True       SINGLE      M   1800.0\n",
      "4   21              2000     True      MARRIED      F   2900.0\n",
      "5   21               100    False       SINGLE      F   1100.0\n",
      "6   19              6000    False        WIDOW      F  10000.0\n",
      "7   30              2200     True     DIVORCED      F   1500.0\n"
     ]
    }
   ],
   "source": [
    "import numpy as np\n",
    "import pandas as pd\n",
    "from sklearn.preprocessing import scale\n",
    "from scipy._lib.six import xrange\n",
    "import numpy as np\n",
    "\n",
    "X=pd.DataFrame({'age':[21,21,19,30,21,21,19,30],\n",
    "'gender':['M','M','N','M','F','F','F','F'],\n",
    "'civil_status':['MARRIED','SINGLE','SINGLE','SINGLE','MARRIED','SINGLE','WIDOW','DIVORCED'],\n",
    "'salary':[3000.0,1200.0 ,32000.0,1800.0 ,2900.0 ,1100.0 ,10000.0,1500.0],\n",
    "'children':[True,False,True,True,True,False,False,True],\n",
    "'available_credit':[2200,100,22000,1100,2000,100,6000,2200]})\n",
    "\n",
    "print(X)"
   ]
  },
  {
   "cell_type": "markdown",
   "metadata": {
    "collapsed": true
   },
   "source": [
    "<h2>2. Gower auxiliary functions</h2>\n",
    "This is necessary because numpy does not give support for mixed data matrices operations."
   ]
  },
  {
   "cell_type": "code",
   "execution_count": 4,
   "metadata": {
    "collapsed": false
   },
   "outputs": [],
   "source": [
    "import numbers\n",
    "\n",
    "#Normalize the array\n",
    "def normalize_mixed_data_columns(arr, dtypes):\n",
    "  \n",
    "    if isinstance(arr,pd.DataFrame):\n",
    "       arr =np.asmatrix(arr.copy())\n",
    "    elif isinstance(arr,np.ndarray):\n",
    "       arr =arr.copy()\n",
    "    else:\n",
    "       raise ValueError('A DataFrame or ndarray must be provided.')\n",
    "    rows,cols = arr.shape\n",
    "    for col in xrange(cols):\n",
    "        if np.issubdtype(dtypes[col],np.number):\n",
    "            max = arr[:,col].max()+0.0  #Converts it to double\n",
    "            if (cols>1):\n",
    "                arr[:,col] /= max\n",
    "            else:    \n",
    "                arr= arr/max\n",
    "    return( arr)\n",
    "\n",
    "#This is to obtain the range (max-min) values of each numeric column\n",
    "def calc_range_mixed_data_columns(arr, dtypes):\n",
    "    rows,cols = arr.shape\n",
    "    \n",
    "    result = np.zeros(cols)\n",
    "    for col in xrange(cols):\n",
    "        if np.issubdtype(dtypes[col],np.number):\n",
    "            result[col]= arr[:,col].max()-arr[:,col].min()\n",
    "    return( result)\n",
    "    \n"
   ]
  },
  {
   "cell_type": "markdown",
   "metadata": {},
   "source": [
    "<h1>3. Refactoring of pdist</h1>\n",
    "With support for mixed data. Not possible to override the module methods from pdist, because they are private."
   ]
  },
  {
   "cell_type": "code",
   "execution_count": 5,
   "metadata": {
    "collapsed": false
   },
   "outputs": [],
   "source": [
    "#This function must be refactored on pdist module to support mixed data\n",
    "def _copy_array_if_base_present(a):\n",
    "    if a.base is not None:\n",
    "        return a.copy()\n",
    "    elif np.issubsctype(a, np.float32):\n",
    "        return np.array(a, dtype=np.double)\n",
    "    else:\n",
    "        return a\n",
    "\n",
    "#This function must be refactored on pdist module to support mixed data\n",
    "def _convert_to_double(X):\n",
    "    if X.dtype == np.object:\n",
    "        return X.copy()\n",
    "    if X.dtype != np.double:\n",
    "        X = X.astype(np.double)\n",
    "    if not X.flags.contiguous:\n",
    "        X = X.copy()\n",
    "    return X\n",
    "\n",
    "#This function was copied from pdist because it is private. No change in the original function.\n",
    "def _validate_vector(u, dtype=None):\n",
    "    # XXX Is order='c' really necessary?\n",
    "    u = np.asarray(u, dtype=dtype, order='c').squeeze()\n",
    "    # Ensure values such as u=1 and u=[1] still return 1-D arrays.\n",
    "    u = np.atleast_1d(u)\n",
    "    if u.ndim > 1:\n",
    "        raise ValueError(\"Input vector should be 1-D.\")\n",
    "    return u\n",
    "\n",
    "\n",
    "#An excerpt from pdist function only with the basic structure to call the gower dist. \n",
    "#The original pdist must be adapted for Gower using this as example.\n",
    "def pdist_(X, metric='euclidean', p=2, w=None, V=None, VI=None):\n",
    "    X = np.asarray(X, order='c')\n",
    "\n",
    "    # The C code doesn't do striding.\n",
    "    X = _copy_array_if_base_present(X)\n",
    "\n",
    "    s = X.shape\n",
    "    if len(s) != 2:\n",
    "        raise ValueError('A 2-dimensional array must be passed.')\n",
    "\n",
    "    m, n = s\n",
    "    dm = np.zeros((m * (m - 1)) // 2, dtype=np.double)\n",
    "\n",
    "    #(...)\n",
    "    dfun = metric\n",
    "    k = 0\n",
    "    for i in xrange(0, m - 1):\n",
    "        for j in xrange(i + 1, m):\n",
    "            dm[k] = dfun(X[i], X[j],V=V,w=w,VI=VI)\n",
    "            k = k + 1\n",
    "\n",
    "    return dm\n",
    "\n"
   ]
  },
  {
   "cell_type": "markdown",
   "metadata": {},
   "source": [
    "<h1>4. The Gower distance function</h1>"
   ]
  },
  {
   "cell_type": "code",
   "execution_count": 6,
   "metadata": {
    "collapsed": false
   },
   "outputs": [],
   "source": [
    "from scipy.spatial.distance import pdist, squareform\n",
    "import numbers\n",
    "\n",
    "def gower(xi, xj,V=None,w=None,VI=None):\n",
    "    cols = len(xj)\n",
    "    \n",
    "    xi=_validate_vector(xi)\n",
    "    xj=_validate_vector(xj)\n",
    "\n",
    "    if V is None:\n",
    "        raise ValueError('An array with the (max-min) ranges for each numeric column must be passed in V.')\n",
    "\n",
    "    if VI is None:\n",
    "        raise ValueError('An array with the dtypes or each numeric column must be passed in VI.')\n",
    "\n",
    "    if w is None:\n",
    "        w=[1]*cols\n",
    "    \n",
    "    sum_sij =0.0\n",
    "    sum_wij =0.0\n",
    "    for col in xrange(cols):\n",
    "        sij=0.0\n",
    "        wij=0.0\n",
    "        \n",
    "        if np.issubdtype(VI[col], np.number):\n",
    "            sij=abs(xi[col]-xj[col])/(V[col])\n",
    "            wij=(w[col],0)[pd.isnull(xi[col]) or pd.isnull(xj[col])]\n",
    "            \n",
    "        else:\n",
    "            sij=(1,0)[xi[col]==xj[col]]\n",
    "            wij=(w[col],0)[pd.isnull(xi[col]) and pd.isnull(xj[col])]\n",
    "        \n",
    "        sum_sij+= (wij*sij)\n",
    "        sum_wij+=wij\n",
    "\n",
    "    \n",
    "    return(sum_sij/sum_wij)\n",
    "\n",
    "\n"
   ]
  },
  {
   "cell_type": "markdown",
   "metadata": {},
   "source": [
    "<h1>5. Get the Gower distance matrix</h1>"
   ]
  },
  {
   "cell_type": "code",
   "execution_count": 12,
   "metadata": {
    "collapsed": false
   },
   "outputs": [
    {
     "name": "stdout",
     "output_type": "stream",
     "text": [
      "Dissimilarities :\n",
      "[[ 0.          0.          0.          0.          0.          0.          0.\n",
      "   0.        ]\n",
      " [ 0.35902381  0.          0.          0.          0.          0.          0.\n",
      "   0.        ]\n",
      " [ 0.67073985  0.69643032  0.          0.          0.          0.          0.\n",
      "   0.        ]\n",
      " [ 0.31787418  0.3138769   0.6552807   0.          0.          0.          0.\n",
      "   0.        ]\n",
      " [ 0.16872811  0.52362903  0.67280129  0.4824794   0.          0.          0.\n",
      "   0.        ]\n",
      " [ 0.52622985  0.16720604  0.6969697   0.48108294  0.35750174  0.          0.\n",
      "   0.        ]\n",
      " [ 0.59697856  0.45600237  0.74042795  0.74818608  0.43237334  0.28987508\n",
      "   0.          0.        ]\n",
      " [ 0.47778758  0.65396349  0.8151941   0.34332284  0.31210361  0.4878362\n",
      "   0.57476615  0.        ]]\n"
     ]
    }
   ],
   "source": [
    "#It's necessary to obtain the columns dtypes\n",
    "dtypes = X.dtypes\n",
    "#It's necessary to normalize between 0 and 1\n",
    "Xn=normalize_mixed_data_columns(X,dtypes)\n",
    "\n",
    "#It's necessary to obtain the range (max-min) values of each numeric column\n",
    "ranges=calc_range_mixed_data_columns(Xn,dtypes)\n",
    "\n",
    "print(\"Dissimilarities :\")\n",
    "D=np.tril(squareform(pdist_(Xn, gower,V=ranges,VI=dtypes)))\n",
    "print(D)\n",
    "#To get the similarities, do 1-D"
   ]
  },
  {
   "cell_type": "markdown",
   "metadata": {},
   "source": [
    "<h1>6. The equivalent code in R</h1>\n",
    "Using the daisy method from {cluster} package\n",
    "\n",
    "<p>\n",
    "<code>\n",
    "library(cluster)\n",
    "\n",
    "age=c(21,21,19,30,21,21,19,30)\n",
    "gender=c('M','M','N','M','F','F','F','F')\n",
    "civil_status=c('MARRIED','SINGLE','SINGLE','SINGLE','MARRIED','SINGLE','WIDOW','DIVORCED')\n",
    "salary=c(3000.0,1200.0 ,32000.0,1800.0 ,2900.0 ,1100.0 ,10000.0,1500.0)\n",
    "children=c(TRUE,FALSE,TRUE,TRUE,TRUE,FALSE,FALSE,TRUE)\n",
    "available_credit=c(2200,100,22000,1100,2000,100,6000,2200)\n",
    "X=data.frame(age,gender,civil_status,salary,children,available_credit)\n",
    "\n",
    "D=daisy(X,metric=\"gower\")\n",
    "\n",
    "print(D)\n",
    "\n",
    "Dissimilarities :\n",
    "          1         2         3         4         5         6         7\n",
    "2 0.3590238                                                            \n",
    "3 0.6707398 0.6964303                                                  \n",
    "4 0.3178742 0.3138769 0.6552807                                        \n",
    "5 0.1687281 0.5236290 0.6728013 0.4824794                              \n",
    "6 0.5262298 0.2006472 0.6969697 0.4810829 0.3575017                    \n",
    "7 0.5969786 0.5472028 0.7404280 0.7481861 0.4323733 0.3478501          \n",
    "8 0.4777876 0.6539635 0.8151941 0.3433228 0.3121036 0.4878362 0.5747661\n",
    "\n",
    "\n",
    "</code>\n"
   ]
  },
  {
   "cell_type": "code",
   "execution_count": null,
   "metadata": {
    "collapsed": true
   },
   "outputs": [],
   "source": []
  }
 ],
 "metadata": {
  "kernelspec": {
   "display_name": "Python 3",
   "language": "python",
   "name": "python3"
  },
  "language_info": {
   "codemirror_mode": {
    "name": "ipython",
    "version": 3
   },
   "file_extension": ".py",
   "mimetype": "text/x-python",
   "name": "python",
   "nbconvert_exporter": "python",
   "pygments_lexer": "ipython3",
   "version": "3.5.3"
  }
 },
 "nbformat": 4,
 "nbformat_minor": 0
}
