{
 "cells": [
  {
   "cell_type": "markdown",
   "metadata": {},
   "source": [
    "<h1>Gower distance calculation for Python V3</h1>\n",
    "<h3>Version submited to scikit learn project approval</h3>\n",
    "https://github.com/scikit-learn/scikit-learn/pull/9555\n",
    "\n",
    "<p>It is not all the time that the data under study is an even matrix of numerical values. Sometimes, you need to dig into data with mixed types of variables (e.g., categorical, boolean, numerical).\n",
    "</p>\n",
    "<p>This notebook provides the Gower function that calculates the Gower mixed similarity.\n",
    "</p>\n",
    "<p>For more details about the Gower distance, please visit: <a href=\"http://members.cbio.mines-paristech.fr/~jvert/svn/bibli/local/Gower1971general.pdf\">Gower, J.C., 1971, A General Coefficient of Similarity and Some of Its Properties</a>.</p>\n"
   ]
  },
  {
   "cell_type": "markdown",
   "metadata": {},
   "source": [
    "<h2>1. Generate some data with mixed types</h2>"
   ]
  },
  {
   "cell_type": "code",
   "execution_count": 34,
   "metadata": {
    "collapsed": false,
    "scrolled": true
   },
   "outputs": [
    {
     "name": "stdout",
     "output_type": "stream",
     "text": [
      "    age  available_credit civil_status gender has_children   salary\n",
      "0  21.0            2200.0      MARRIED      M         True   3000.0\n",
      "1  21.0             100.0       SINGLE      M        False   1200.0\n",
      "2  19.0           22000.0       SINGLE      N         True  32000.0\n",
      "3  30.0            1100.0       SINGLE      M         True   1800.0\n",
      "4  21.0            2000.0      MARRIED      F         True   2900.0\n",
      "5  21.0             100.0       SINGLE      F        False   1100.0\n",
      "6  19.0            6000.0        WIDOW      F        False  10000.0\n",
      "7  30.0            2200.0     DIVORCED      F         True   1500.0\n",
      "8   NaN               NaN         None   None         None      NaN\n"
     ]
    }
   ],
   "source": [
    "import numpy as np\n",
    "import pandas as pd\n",
    "from scipy.spatial import distance \n",
    "from sklearn.utils import validation\n",
    "from sklearn.metrics import pairwise\n",
    "from scipy.sparse import issparse\n",
    "\n",
    "X=pd.DataFrame({'age':[21,21,19,30,21,21,19,30,None],\n",
    "'gender':['M','M','N','M','F','F','F','F',None],\n",
    "'civil_status':['MARRIED','SINGLE','SINGLE','SINGLE','MARRIED','SINGLE','WIDOW','DIVORCED',None],\n",
    "'salary':[3000.0,1200.0 ,32000.0,1800.0 ,2900.0 ,1100.0 ,10000.0,1500.0,None],\n",
    "'has_children':[True,False,True,True,True,False,False,True,None],\n",
    "'available_credit':[2200,100,22000,1100,2000,100,6000,2200,None]})\n",
    "\n",
    "\n",
    "print(X)"
   ]
  },
  {
   "cell_type": "markdown",
   "metadata": {},
   "source": [
    "# 2. Some pairwise utility functions (not released yet to scikit-learn)\n"
   ]
  },
  {
   "cell_type": "code",
   "execution_count": 35,
   "metadata": {
    "collapsed": true
   },
   "outputs": [],
   "source": [
    "\n",
    "\n",
    "def _return_float_dtype(X, Y):\n",
    "    \"\"\"\n",
    "    1. If dtype of X and Y is float32, then dtype float32 is returned.\n",
    "    2. Else dtype float is returned.\n",
    "    \"\"\"\n",
    "    if not issparse(X) and not isinstance(X, np.ndarray):\n",
    "        X = np.asarray(X)\n",
    "\n",
    "    if Y is None:\n",
    "        Y_dtype = X.dtype\n",
    "    elif not issparse(Y) and not isinstance(Y, np.ndarray):\n",
    "        Y = np.asarray(Y)\n",
    "        Y_dtype = Y.dtype\n",
    "    else:\n",
    "        Y_dtype = Y.dtype\n",
    "\n",
    "    if X.dtype == Y_dtype == np.float32:\n",
    "        dtype = np.float32\n",
    "    elif X.dtype == np.object and not issparse(X):\n",
    "        dtype = np.float\n",
    "        for col in range(X.shape[1]):\n",
    "            if not np.issubdtype(type(X[0, col]), np.number):\n",
    "                dtype = np.object\n",
    "                break\n",
    "    else:\n",
    "        dtype = np.float\n",
    "\n",
    "    return X, Y, dtype\n",
    "\n",
    "\n",
    "def check_pairwise_arrays(X, Y, precomputed=False, dtype=None):\n",
    "    X, Y, dtype_float = _return_float_dtype(X, Y)\n",
    "\n",
    "    warn_on_dtype = dtype is not None\n",
    "    estimator = 'check_pairwise_arrays'\n",
    "    if dtype is None:\n",
    "        dtype = dtype_float\n",
    "\n",
    "\n",
    "    if Y is X or Y is None:\n",
    "        X = Y = validation.check_array(X, accept_sparse='csr', dtype=dtype,\n",
    "                            warn_on_dtype=warn_on_dtype, estimator=estimator)\n",
    "    else:\n",
    "        X = validation.check_array(X, accept_sparse='csr', dtype=dtype,\n",
    "                        warn_on_dtype=warn_on_dtype, estimator=estimator)\n",
    "        Y = validation.check_array(Y, accept_sparse='csr', dtype=dtype,\n",
    "                        warn_on_dtype=warn_on_dtype, estimator=estimator)\n",
    "\n",
    "    if precomputed:\n",
    "        if X.shape[1] != Y.shape[0]:\n",
    "            raise ValueError(\"Precomputed metric requires shape \"\n",
    "                             \"(n_queries, n_indexed). Got (%d, %d) \"\n",
    "                             \"for %d indexed.\" %\n",
    "                             (X.shape[0], X.shape[1], Y.shape[0]))\n",
    "    elif X.shape[1] != Y.shape[1]:\n",
    "        raise ValueError(\"Incompatible dimension for X and Y matrices: \"\n",
    "                         \"X.shape[1] == %d while Y.shape[1] == %d\" % (\n",
    "                             X.shape[1], Y.shape[1]))\n",
    "\n",
    "    return X, Y"
   ]
  },
  {
   "cell_type": "markdown",
   "metadata": {},
   "source": [
    "# 3. The Gower Function"
   ]
  },
  {
   "cell_type": "code",
   "execution_count": 36,
   "metadata": {
    "collapsed": true
   },
   "outputs": [],
   "source": [
    "def gower_distances(X, Y=None, w=None, categorical_features=None):\n",
    "    \"\"\"\n",
    "    Computes the gower distances between X and Y\n",
    "\n",
    "    Read more in the :ref:`User Guide <metrics>`.\n",
    "\n",
    "    Parameters\n",
    "    ----------\n",
    "    X : array-like, shape (n_samples, n_features)\n",
    "\n",
    "    Y : array-like, shape (n_samples, n_features)\n",
    "\n",
    "    w:  array-like, shape (n_features)\n",
    "    According the Gower formula, w is an attribute weight.\n",
    "\n",
    "    categorical_features: array-like, shape (n_features)\n",
    "    Indicates with True/False wheter a column is a categorical attribute.\n",
    "    This is useful when categorical atributes are represented as integer\n",
    "    values.\n",
    "\n",
    "    Returns\n",
    "    -------\n",
    "    similarities : ndarray, shape (n_samples, )\n",
    "\n",
    "    Notes\n",
    "    ------\n",
    "    Gower is a similarity measure for categorical, boolean and numerical mixed\n",
    "    data.\n",
    "\n",
    "    \"\"\"\n",
    "\n",
    "    X, Y = check_pairwise_arrays(X, Y, dtype=(np.object, None)[issparse(X) or\n",
    "                                                               issparse(Y)])\n",
    "\n",
    "    rows, cols = X.shape\n",
    "\n",
    "    if categorical_features is None:\n",
    "        categorical_features = []\n",
    "        for col in range(cols):\n",
    "            if np.issubdtype(type(X[0, col]), np.number):\n",
    "                categorical_features.append(False)\n",
    "            else:\n",
    "                categorical_features.append(True)\n",
    "    # Calculates the normalized ranges and max values of numeric values\n",
    "    ranges_of_numeric = [0.0] * cols\n",
    "    max_of_numeric = [0.0] * cols\n",
    "    for col in range(cols):\n",
    "        if not categorical_features[col]:\n",
    "            max = None\n",
    "            min = None\n",
    "            if issparse(X):\n",
    "                col_array = X.getcol(col)\n",
    "                max = col_array.max() + 0.0\n",
    "                min = col_array.min() + 0.0\n",
    "            else:\n",
    "                col_array = X[:, col].astype(np.double)\n",
    "                max = np.nanmax(col_array)\n",
    "                min = np.nanmin(col_array)\n",
    "\n",
    "            if np.isnan(max):\n",
    "                max = 0.0\n",
    "            if np.isnan(min):\n",
    "                min = 0.0\n",
    "            max_of_numeric[col] = max\n",
    "            ranges_of_numeric[col] = (1 - min / max) if (max != 0) else 0.0\n",
    "\n",
    "    if w is None:\n",
    "        w = [1] * cols\n",
    "\n",
    "    yrows, ycols = Y.shape\n",
    "\n",
    "    dm = np.zeros((rows, yrows), dtype=np.double)\n",
    "\n",
    "    for i in range(0, rows):\n",
    "        j_start = i\n",
    "\n",
    "        # for non square results\n",
    "        if rows != yrows:\n",
    "            j_start = 0\n",
    "\n",
    "        for j in range(j_start, yrows):\n",
    "            sum_sij = 0.0\n",
    "            sum_wij = 0.0\n",
    "            for col in range(cols):\n",
    "                value_xi = X[i, col]\n",
    "                value_xj = Y[j, col]\n",
    "\n",
    "                if not categorical_features[col]:\n",
    "                    if (max_of_numeric[col] != 0):\n",
    "                        value_xi = value_xi / max_of_numeric[col]\n",
    "                        value_xj = value_xj / max_of_numeric[col]\n",
    "                    else:\n",
    "                        value_xi = 0\n",
    "                        value_xj = 0\n",
    "\n",
    "                    if ranges_of_numeric[col] != 0:\n",
    "                        sij = abs(value_xi - value_xj) / ranges_of_numeric[col]\n",
    "                    else:\n",
    "                        sij = 0\n",
    "                    wij = (w[col], 0)[np.isnan(value_xi) or np.isnan(value_xj)]\n",
    "                else:\n",
    "                    sij = (1.0, 0.0)[value_xi == value_xj]\n",
    "                    wij = (w[col], 0)[value_xi is None and value_xj is None]\n",
    "                sum_sij += (wij * sij)\n",
    "                sum_wij += wij\n",
    "\n",
    "            if sum_wij != 0:\n",
    "                dm[i, j] = (sum_sij / sum_wij)\n",
    "                if j < rows and i < yrows:\n",
    "                    dm[j, i] = dm[i, j]\n",
    "\n",
    "    return dm\n",
    "\n",
    "\n"
   ]
  },
  {
   "cell_type": "markdown",
   "metadata": {},
   "source": [
    "# 4. Get the Gower distance matrix"
   ]
  },
  {
   "cell_type": "code",
   "execution_count": 37,
   "metadata": {
    "collapsed": false
   },
   "outputs": [
    {
     "name": "stdout",
     "output_type": "stream",
     "text": [
      "[[ 0.          0.35902381  0.67073985  0.31787418  0.16872811  0.52622985\n",
      "   0.59697856  0.47778758         nan]\n",
      " [ 0.35902381  0.          0.69643032  0.3138769   0.52362903  0.16720604\n",
      "   0.45600237  0.65396349         nan]\n",
      " [ 0.67073985  0.69643032  0.          0.6552807   0.67280129  0.6969697\n",
      "   0.74042795  0.8151941          nan]\n",
      " [ 0.31787418  0.3138769   0.6552807   0.          0.4824794   0.48108294\n",
      "   0.74818608  0.34332284         nan]\n",
      " [ 0.16872811  0.52362903  0.67280129  0.4824794   0.          0.35750174\n",
      "   0.43237334  0.31210361         nan]\n",
      " [ 0.52622985  0.16720604  0.6969697   0.48108294  0.35750174  0.\n",
      "   0.28987508  0.4878362          nan]\n",
      " [ 0.59697856  0.45600237  0.74042795  0.74818608  0.43237334  0.28987508\n",
      "   0.          0.57476615         nan]\n",
      " [ 0.47778758  0.65396349  0.8151941   0.34332284  0.31210361  0.4878362\n",
      "   0.57476615  0.                 nan]\n",
      " [        nan         nan         nan         nan         nan         nan\n",
      "          nan         nan  0.        ]]\n"
     ]
    }
   ],
   "source": [
    "D = gower_distances(X)\n",
    "print(D)"
   ]
  },
  {
   "cell_type": "markdown",
   "metadata": {},
   "source": [
    "<h1>5. The equivalent code in R</h1>\n",
    "Using the daisy method from {cluster} package\n",
    "\n",
    "<p>\n",
    "<code>\n",
    "library(cluster)\n",
    "\n",
    "age=c(21,21,19,30,21,21,19,30,NA)\n",
    "gender=c('M','M','N','M','F','F','F','F',NA)\n",
    "civil_status=c('MARRIED','SINGLE','SINGLE','SINGLE','MARRIED','SINGLE','WIDOW','DIVORCED',NA)\n",
    "salary=c(3000.0,1200.0 ,32000.0,1800.0 ,2900.0 ,1100.0 ,10000.0,1500.0,NA)\n",
    "children=c(TRUE,FALSE,TRUE,TRUE,TRUE,FALSE,FALSE,TRUE,NA)\n",
    "available_credit=c(2200,100,22000,1100,2000,100,6000,2200,NA)\n",
    "X=data.frame(age,gender,civil_status,salary,children,available_credit)\n",
    "\n",
    "D=daisy(X,metric=\"gower\")\n",
    "\n",
    "print(D)\n",
    "\n",
    "Dissimilarities :\n",
    "          1         2         3         4         5         6         7         8\n",
    "2 0.3590238                                                                      \n",
    "3 0.6707398 0.6964303                                                            \n",
    "4 0.3178742 0.3138769 0.6552807                                                  \n",
    "5 0.1687281 0.5236290 0.6728013 0.4824794                                        \n",
    "6 0.5262298 0.2006472 0.6969697 0.4810829 0.3575017                              \n",
    "7 0.5969786 0.5472028 0.7404280 0.7481861 0.4323733 0.3478501                    \n",
    "8 0.4777876 0.6539635 0.8151941 0.3433228 0.3121036 0.4878362 0.5747661          \n",
    "9        NA        NA        NA        NA        NA        NA        NA        NA\n",
    "\n",
    "</code>\n"
   ]
  },
  {
   "cell_type": "markdown",
   "metadata": {},
   "source": [
    "# 6. Not Squared Matrix Test"
   ]
  },
  {
   "cell_type": "code",
   "execution_count": 38,
   "metadata": {
    "collapsed": false
   },
   "outputs": [
    {
     "name": "stdout",
     "output_type": "stream",
     "text": [
      "[[ 0.48183999]\n",
      " [ 0.51816001]\n",
      " [ 0.28612829]]\n"
     ]
    }
   ],
   "source": [
    "X2 = np.array([['Syria', 1200, 0,411114.44,True],\n",
    "                  ['Ireland', 300, 0, 199393333.22, False],\n",
    "                  ['United Kingdom', 100, 0, 32323222.121, False]], dtype=object)\n",
    "               \n",
    "Y2 = np.array([['United Kingdom', 200, 0, 99923921.47, True]], dtype=object)\n",
    "\n",
    "\n",
    "D = gower_distances(X2,Y2)\n",
    "\n",
    "print(D)\n",
    "               \n",
    "               "
   ]
  },
  {
   "cell_type": "markdown",
   "metadata": {},
   "source": [
    "# 7. Sparse Matrix Test"
   ]
  },
  {
   "cell_type": "code",
   "execution_count": 39,
   "metadata": {
    "collapsed": false
   },
   "outputs": [
    {
     "name": "stdout",
     "output_type": "stream",
     "text": [
      "[[ 0.          0.06597222  0.06326507 ...,  0.4978225   0.47504708\n",
      "   0.43108522]\n",
      " [ 0.06597222  0.          0.03895951 ...,  0.45962806  0.52018597\n",
      "   0.39289077]\n",
      " [ 0.06326507  0.03895951  0.         ...,  0.49858757  0.51747881\n",
      "   0.43185028]\n",
      " ..., \n",
      " [ 0.4978225   0.45962806  0.49858757 ...,  0.          0.10222458\n",
      "   0.06673729]\n",
      " [ 0.47504708  0.52018597  0.51747881 ...,  0.10222458  0.          0.1272952 ]\n",
      " [ 0.43108522  0.39289077  0.43185028 ...,  0.06673729  0.1272952   0.        ]]\n"
     ]
    }
   ],
   "source": [
    "from sklearn.datasets import load_iris\n",
    "from scipy.sparse import csc_matrix\n",
    "\n",
    "\n",
    "iris = load_iris()\n",
    "# converts to sparse matrix\n",
    "C = csc_matrix(iris.data)\n",
    "D = gower_distances(C)\n",
    "\n",
    "print(D)\n"
   ]
  },
  {
   "cell_type": "code",
   "execution_count": null,
   "metadata": {
    "collapsed": true
   },
   "outputs": [],
   "source": []
  }
 ],
 "metadata": {
  "kernelspec": {
   "display_name": "Python 3",
   "language": "python",
   "name": "python3"
  },
  "language_info": {
   "codemirror_mode": {
    "name": "ipython",
    "version": 3
   },
   "file_extension": ".py",
   "mimetype": "text/x-python",
   "name": "python",
   "nbconvert_exporter": "python",
   "pygments_lexer": "ipython3",
   "version": "3.5.3"
  }
 },
 "nbformat": 4,
 "nbformat_minor": 0
}
