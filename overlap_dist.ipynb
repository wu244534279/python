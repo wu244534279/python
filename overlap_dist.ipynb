{
 "cells": [
  {
   "cell_type": "markdown",
   "metadata": {},
   "source": [
    "<h1>Euclidean and Overlap distance calculation</h1>\n",
    "\n",
    "It is not all the time that the data under study is an even matrix of numerical values. Sometimes, you need to dig into data with mixed types of variables (e.g., categorical, boolean, numerical).\n",
    "\n",
    "This notebook proposes a refactoring for scipy's pdist function in order to support the Euclidean Overlap distance.\n",
    "\n",
    "\n",
    "According to this paper, this is the most used similarity function for mixed data.<br>\n",
    "http://citeseerx.ist.psu.edu/viewdoc/download?doi=10.1.1.140.8831&rep=rep1&type=pdf\n",
    "<nr>\n",
    "In Weka platform, by default the distance measurement is Euclidean with Overlap.<br>\n",
    "\n",
    "The original paper for Overlap:<br>\n",
    "http://citeseerx.ist.psu.edu/viewdoc/download?doi=10.1.1.140.8831&rep=rep1&type=pdf\n",
    "\n",
    "\n",
    "<h2>1. Generate some data with mixed types</h2>"
   ]
  },
  {
   "cell_type": "code",
   "execution_count": 3,
   "metadata": {
    "collapsed": false,
    "scrolled": true
   },
   "outputs": [
    {
     "name": "stdout",
     "output_type": "stream",
     "text": [
      "   age  available_credit children civil_status gender   salary\n",
      "0   21              2200     True      MARRIED      M   3000.0\n",
      "1   21               100    False       SINGLE      M   1200.0\n",
      "2   19             22000     True       SINGLE      M  32000.0\n",
      "3   30              1100     True       SINGLE      M   1800.0\n",
      "4   21              2000     True      MARRIED      F   2900.0\n",
      "5   21               100    False       SINGLE      F   1100.0\n",
      "6   19              6000    False        WIDOW      F  10000.0\n",
      "7   30              2200     True     DIVORCED      F   1500.0\n"
     ]
    }
   ],
   "source": [
    "import numpy as np\n",
    "import pandas as pd\n",
    "from sklearn.preprocessing import scale\n",
    "from scipy._lib.six import xrange\n",
    "import numpy as np\n",
    "from scipy.spatial.distance import pdist, squareform\n",
    "\n",
    "X=pd.DataFrame({'age':[21,21,19,30,21,21,19,30],\n",
    "'gender':['M','M','M','M','F','F','F','F'],\n",
    "'civil_status':['MARRIED','SINGLE','SINGLE','SINGLE','MARRIED','SINGLE','WIDOW','DIVORCED'],\n",
    "'salary':[3000.0,1200.0 ,32000.0,1800.0 ,2900.0 ,1100.0 ,10000.0,1500.0],\n",
    "'children':[True,False,True,True,True,False,False,True],\n",
    "'available_credit':[2200,100,22000,1100,2000,100,6000,2200]})\n",
    "\n",
    "print(X)"
   ]
  },
  {
   "cell_type": "markdown",
   "metadata": {
    "collapsed": true
   },
   "source": [
    "<h2>2. Auxiliary functions</h2>\n",
    "This is necessary because numpy does not give support for mixed data matrices operations."
   ]
  },
  {
   "cell_type": "code",
   "execution_count": 4,
   "metadata": {
    "collapsed": false
   },
   "outputs": [],
   "source": [
    "\n",
    "\n",
    "#Normalize the array\n",
    "def normalize_mixed_data_columns(arr, dtypes):\n",
    "  \n",
    "    if isinstance(arr, pd.DataFrame):\n",
    "        arr =np.asmatrix(arr.copy())\n",
    "    elif isinstance(arr, np.ndarray):\n",
    "        arr =arr.copy()\n",
    "    else:\n",
    "        raise ValueError('A DataFrame or ndarray must be provided.')\n",
    "    \n",
    "    \n",
    "    rows,cols = arr.shape\n",
    "    for col in xrange(cols):\n",
    "        if np.issubdtype(dtypes[col],np.number):\n",
    "            max = arr[:,col].max()+0.0 #Converts to double\n",
    "            if (cols>1):\n",
    "                arr[:,col] /= max\n",
    "            else:    \n",
    "                arr= arr/max\n",
    "    return( arr)\n",
    "\n",
    " \n",
    "\n"
   ]
  },
  {
   "cell_type": "markdown",
   "metadata": {},
   "source": [
    "<h1>3. Refactoring of pdist</h1>\n",
    "With support for mixed data. Not possible to override the module methods from pdist, because they are private."
   ]
  },
  {
   "cell_type": "code",
   "execution_count": 2,
   "metadata": {
    "collapsed": false
   },
   "outputs": [],
   "source": [
    "#This function must be refactored on pdist module to support mixed data\n",
    "def _copy_array_if_base_present(a):\n",
    "    if a.base is not None:\n",
    "        return a.copy()\n",
    "    elif np.issubsctype(a, np.float32):\n",
    "        return np.array(a, dtype=np.double)\n",
    "    else:\n",
    "        return a\n",
    "\n",
    "#This function must be refactored on pdist module to support mixed data\n",
    "def _convert_to_double(X):\n",
    "    if X.dtype == np.object:\n",
    "        return X.copy()\n",
    "    if X.dtype != np.double:\n",
    "        X = X.astype(np.double)\n",
    "    if not X.flags.contiguous:\n",
    "        X = X.copy()\n",
    "    return X\n",
    "\n",
    "#This function was copied from pdist because it is private. No change in the original function.\n",
    "def _validate_vector(u, dtype=None):\n",
    "    # XXX Is order='c' really necessary?\n",
    "    u = np.asarray(u, dtype=dtype, order='c').squeeze()\n",
    "    # Ensure values such as u=1 and u=[1] still return 1-D arrays.\n",
    "    u = np.atleast_1d(u)\n",
    "    if u.ndim > 1:\n",
    "        raise ValueError(\"Input vector should be 1-D.\")\n",
    "    return u\n",
    "\n",
    "\n",
    "#An excerpt from pdist function only with the basic structure to call the metric function. \n",
    "#The original pdist must be adapted to this current metric using this as example.\n",
    "def pdist_(X, metric='euclidean', p=2, w=None, V=None, VI=None):\n",
    "    X = np.asarray(X, order='c')\n",
    "\n",
    "    # The C code doesn't do striding.\n",
    "    X = _copy_array_if_base_present(X)\n",
    "\n",
    "    s = X.shape\n",
    "    if len(s) != 2:\n",
    "        raise ValueError('A 2-dimensional array must be passed.')\n",
    "\n",
    "    m, n = s\n",
    "    dm = np.zeros((m * (m - 1)) // 2, dtype=np.double)\n",
    "\n",
    "    #(...)\n",
    "    dfun = metric\n",
    "    k = 0\n",
    "    for i in xrange(0, m - 1):\n",
    "        for j in xrange(i + 1, m):\n",
    "            dm[k] = dfun(X[i], X[j],VI=VI)\n",
    "            k = k + 1\n",
    "\n",
    "    return dm"
   ]
  },
  {
   "cell_type": "markdown",
   "metadata": {},
   "source": [
    "<h1>4. The Euclidean-Overlap similarity function</h1>"
   ]
  },
  {
   "cell_type": "code",
   "execution_count": 4,
   "metadata": {
    "collapsed": false
   },
   "outputs": [],
   "source": [
    "from scipy.spatial.distance import pdist, squareform\n",
    "\n",
    "\n",
    "def euclidean_overlap(xi, xj,VI=None):\n",
    "\n",
    "    cols = len(xj)\n",
    "\n",
    "    if VI is None:\n",
    "        raise ValueError('An array with the dtypes for each column must be passed in VI.')\n",
    "        \n",
    "    xi=_validate_vector(xi)\n",
    "    xj=_validate_vector(xj)\n",
    "\n",
    "    sum_of_sq_cathetus =0.0\n",
    "    for col in xrange(cols):\n",
    "        if np.issubdtype(VI[col],np.number):\n",
    "            sum_of_sq_cathetus+=abs(xi[col]-xj[col])**2\n",
    "        else:\n",
    "            sum_of_sq_cathetus+=(0,1)[xi[col]==xj[col]]\n",
    "            \n",
    "\n",
    "    return(sum_of_sq_cathetus**0.5)\n",
    "\n",
    "\n"
   ]
  },
  {
   "cell_type": "markdown",
   "metadata": {},
   "source": [
    "<h1>5. Get the Euclidean-Overlap distance matrix</h1>"
   ]
  },
  {
   "cell_type": "code",
   "execution_count": 7,
   "metadata": {
    "collapsed": false
   },
   "outputs": [
    {
     "name": "stdout",
     "output_type": "stream",
     "text": [
      "[[ 0.          0.          0.          0.          0.          0.          0.\n",
      "   0.        ]\n",
      " [ 1.00611909  0.          0.          0.          0.          0.          0.\n",
      "   0.        ]\n",
      " [ 1.90675995  1.98034857  0.          0.          0.          0.          0.\n",
      "   0.        ]\n",
      " [ 1.4470336   1.44651916  2.21982173  0.          0.          0.          0.\n",
      "   0.        ]\n",
      " [ 1.41424623  0.10139499  1.63029249  1.04539715  0.          0.          0.\n",
      "   0.        ]\n",
      " [ 0.11241424  1.41421702  1.71108324  1.0452486   1.00529734  0.          0.\n",
      "   0.        ]\n",
      " [ 0.28658457  1.0733084   1.00079062  0.49971586  1.04246382  1.4675556\n",
      "   0.          0.        ]\n",
      " [ 1.04508242  0.31495946  1.68905054  1.00129311  1.44637364  1.04845974\n",
      "   1.11123166  0.        ]]\n"
     ]
    }
   ],
   "source": [
    "#get the dtypes\n",
    "dtypes = X.dtypes\n",
    "\n",
    "#normalize between 0 and 1\n",
    "Xn=normalize_mixed_data_columns(X, dtypes)\n",
    "\n",
    "print(np.tril(squareform(pdist_(Xn,euclidean_overlap,VI=dtypes))))"
   ]
  },
  {
   "cell_type": "code",
   "execution_count": null,
   "metadata": {
    "collapsed": true
   },
   "outputs": [],
   "source": []
  }
 ],
 "metadata": {
  "kernelspec": {
   "display_name": "Python 3",
   "language": "python",
   "name": "python3"
  },
  "language_info": {
   "codemirror_mode": {
    "name": "ipython",
    "version": 3
   },
   "file_extension": ".py",
   "mimetype": "text/x-python",
   "name": "python",
   "nbconvert_exporter": "python",
   "pygments_lexer": "ipython3",
   "version": "3.5.3"
  }
 },
 "nbformat": 4,
 "nbformat_minor": 0
}
